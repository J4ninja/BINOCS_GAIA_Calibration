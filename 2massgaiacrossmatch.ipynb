{
 "cells": [
  {
   "cell_type": "code",
   "execution_count": 15,
   "metadata": {},
   "outputs": [
    {
     "name": "stdout",
     "output_type": "stream",
     "text": [
      "Source ID:       Source      \n",
      "------------------\n",
      "604947625406360960\n",
      "Gaia coordinates: <SkyCoord (ICRS): (ra, dec) in deg\n",
      "    [(133.05033279, 12.02970312)]>\n"
     ]
    }
   ],
   "source": [
    "from astropy.coordinates import SkyCoord\n",
    "from astropy import units as u\n",
    "from astroquery.vizier import Vizier\n",
    "\n",
    "def parse_2mass_string(twomass_string):\n",
    "    # Extract right ascension and declination from the two-mass string\n",
    "    delim = \"\"\n",
    "    if \"+\" in twomass_string:\n",
    "        delim = \"+\"\n",
    "    elif \"-\" in twomass_string:\n",
    "        delim = \"-\"\n",
    "\n",
    "    left, right = twomass_string.split(delim)\n",
    "\n",
    "    ra_string = left[2:]\n",
    "    dec_string = right\n",
    "    ra_hr = ra_string[0:2] + \"h\"\n",
    "    ra_min = ra_string[2:4] + \"m\"\n",
    "    ra_sec = ra_string[4:6] + \".\" + ra_string[6:8] + \"s\"\n",
    "    ra_2mass = ra_hr + ra_min + ra_sec\n",
    "    dec_deg = \"+\" + dec_string[0:2] + \"d\"\n",
    "    dec_arcmin = dec_string[2:4] + \"m\"\n",
    "    dec_arcsec = dec_string[4:6] + \".\" + dec_string[6:] + \"s\"\n",
    "    dec_2mass = dec_deg + dec_arcmin + dec_arcsec\n",
    "    return ra_2mass, dec_2mass\n",
    "\n",
    "def find_source_id_based_on_2Mass(twomass_string):\n",
    "    # Parse the two-mass string into right ascension and declination\n",
    "    ra_2mass, dec_2mass = parse_2mass_string(twomass_string)\n",
    "    \n",
    "    # Create SkyCoord object\n",
    "    coord_2mass = SkyCoord(ra_2mass, dec_2mass, frame='icrs')\n",
    "    \n",
    "    # Query Gaia catalog\n",
    "    gaia_query = Vizier(columns=['RA_ICRS', 'DE_ICRS', '_RAJ2000', '_DEJ2000', 'Source'], catalog='I/355/gaiadr3')\n",
    "    gaia_result = gaia_query.query_region(coord_2mass, radius=1 * u.arcsecond)\n",
    "    \n",
    "    # Process query result\n",
    "    if gaia_result is not None and len(gaia_result) > 0:\n",
    "        gaia_coord = SkyCoord(gaia_result[0]['RA_ICRS'], gaia_result[0]['DE_ICRS'], unit=(u.deg, u.deg))\n",
    "        source_id = gaia_result[0]['Source']\n",
    "        print(\"Source ID:\", source_id)\n",
    "        print(\"Gaia coordinates:\", gaia_coord)\n",
    "    else:\n",
    "        print(\"No matching sources found in the Gaia catalog.\")\n",
    "\n",
    "# Example usage\n",
    "twomass_string = '2M08521208+1201469'\n",
    "find_source_id_based_on_2Mass(twomass_string)\n"
   ]
  }
 ],
 "metadata": {
  "kernelspec": {
   "display_name": "default",
   "language": "python",
   "name": "python3"
  },
  "language_info": {
   "codemirror_mode": {
    "name": "ipython",
    "version": 3
   },
   "file_extension": ".py",
   "mimetype": "text/x-python",
   "name": "python",
   "nbconvert_exporter": "python",
   "pygments_lexer": "ipython3",
   "version": "3.9.12"
  }
 },
 "nbformat": 4,
 "nbformat_minor": 2
}
